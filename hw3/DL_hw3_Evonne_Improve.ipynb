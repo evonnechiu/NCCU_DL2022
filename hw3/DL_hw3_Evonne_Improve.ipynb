{
  "cells": [
    {
      "cell_type": "markdown",
      "metadata": {
        "id": "0_MeV8y-NoXX"
      },
      "source": [
        "# Training a Classifier (CNN) Datasets- EMNIST\n",
        "\n",
        "We will use the EMNIST dataset.\n",
        "\n",
        "\n",
        "*   EMNIST ByClass: 814,255 characters. 62 unbalanced classes.\n",
        "*   EMNIST ByMerge: 814,255 characters. 47 unbalanced classes.\n",
        "*   EMNIST Balanced:  131,600 characters. 47 balanced classes.\n",
        "*   EMNIST Letters: 145,600 characters. 26 balanced classes.\n",
        "*   EMNIST Digits: 280,000 characters. 10 balanced classes.\n",
        "*   EMNIST MNIST: 70,000 characters. 10 balanced classes.\n",
        "\n",
        "\n",
        "The images in EMNIST are of\n",
        "size 1x28x28, i.e. 1-channel color(grey) images of 28x28 pixels in size."
      ]
    },
    {
      "cell_type": "code",
      "source": [
        "from google.colab import drive\n",
        "drive.mount('/content/drive') #掛載你的雲端硬碟到colab上的路徑"
      ],
      "metadata": {
        "colab": {
          "base_uri": "https://localhost:8080/"
        },
        "id": "ukK7aBrGLgRM",
        "outputId": "6242bcec-d60b-47a4-edd9-4dc905f5d5a6"
      },
      "execution_count": 2,
      "outputs": [
        {
          "output_type": "stream",
          "name": "stdout",
          "text": [
            "Mounted at /content/drive\n"
          ]
        }
      ]
    },
    {
      "cell_type": "code",
      "execution_count": 3,
      "metadata": {
        "id": "NSShhjwpXmlq"
      },
      "outputs": [],
      "source": [
        "import torch\n",
        "import torchvision\n",
        "import torchvision.transforms as transforms\n",
        "import torch.nn as nn\n",
        "import torch.nn.functional as F\n",
        "import numpy as np\n",
        "import torch.optim as optim\n",
        "from tqdm import tqdm\n",
        "from torch.autograd import Variable\n",
        "import matplotlib.pyplot as plt\n",
        "import numpy as np\n",
        "from torchvision.transforms.transforms import Pad"
      ]
    },
    {
      "cell_type": "code",
      "source": [
        "from psutil import virtual_memory\n",
        "ram_gb = virtual_memory().total / 1e9\n",
        "print('Your runtime has {:.1f} gigabytes of available RAM\\n'.format(ram_gb))\n",
        "\n",
        "if ram_gb < 20:\n",
        "  print('Not using a high-RAM runtime')\n",
        "else:\n",
        "  print('You are using a high-RAM runtime!')"
      ],
      "metadata": {
        "id": "vRiIfXdAKMXb",
        "outputId": "a19e94f6-65be-49a8-a85b-dde8c543d5c0",
        "colab": {
          "base_uri": "https://localhost:8080/"
        }
      },
      "execution_count": 4,
      "outputs": [
        {
          "output_type": "stream",
          "name": "stdout",
          "text": [
            "Your runtime has 13.6 gigabytes of available RAM\n",
            "\n",
            "Not using a high-RAM runtime\n"
          ]
        }
      ]
    },
    {
      "cell_type": "code",
      "source": [
        "gpu_info = !nvidia-smi\n",
        "gpu_info = '\\n'.join(gpu_info)\n",
        "if gpu_info.find('failed') >= 0:\n",
        "  print('Not connected to a GPU')\n",
        "else:\n",
        "  print(gpu_info)"
      ],
      "metadata": {
        "colab": {
          "base_uri": "https://localhost:8080/"
        },
        "id": "weFSzb5XHOmw",
        "outputId": "43b4812d-5567-44aa-af3b-a3bcc1584d1c"
      },
      "execution_count": 5,
      "outputs": [
        {
          "output_type": "stream",
          "name": "stdout",
          "text": [
            "Tue Apr 12 08:38:44 2022       \n",
            "+-----------------------------------------------------------------------------+\n",
            "| NVIDIA-SMI 460.32.03    Driver Version: 460.32.03    CUDA Version: 11.2     |\n",
            "|-------------------------------+----------------------+----------------------+\n",
            "| GPU  Name        Persistence-M| Bus-Id        Disp.A | Volatile Uncorr. ECC |\n",
            "| Fan  Temp  Perf  Pwr:Usage/Cap|         Memory-Usage | GPU-Util  Compute M. |\n",
            "|                               |                      |               MIG M. |\n",
            "|===============================+======================+======================|\n",
            "|   0  Tesla P100-PCIE...  Off  | 00000000:00:04.0 Off |                    0 |\n",
            "| N/A   42C    P0    27W / 250W |      0MiB / 16280MiB |      0%      Default |\n",
            "|                               |                      |                  N/A |\n",
            "+-------------------------------+----------------------+----------------------+\n",
            "                                                                               \n",
            "+-----------------------------------------------------------------------------+\n",
            "| Processes:                                                                  |\n",
            "|  GPU   GI   CI        PID   Type   Process name                  GPU Memory |\n",
            "|        ID   ID                                                   Usage      |\n",
            "|=============================================================================|\n",
            "|  No running processes found                                                 |\n",
            "+-----------------------------------------------------------------------------+\n"
          ]
        }
      ]
    },
    {
      "cell_type": "code",
      "source": [
        "# GPU\n",
        "device = 'cuda:0' if torch.cuda.is_available() else 'cpu'\n",
        "print('GPU State:', device)"
      ],
      "metadata": {
        "colab": {
          "base_uri": "https://localhost:8080/"
        },
        "id": "fLIxJpGCQtH1",
        "outputId": "1937c1a9-c978-46ec-f405-e79fa3b460e3"
      },
      "execution_count": 6,
      "outputs": [
        {
          "output_type": "stream",
          "name": "stdout",
          "text": [
            "GPU State: cuda:0\n"
          ]
        }
      ]
    },
    {
      "cell_type": "code",
      "execution_count": 7,
      "metadata": {
        "id": "9lgtysKxNqqy",
        "colab": {
          "base_uri": "https://localhost:8080/",
          "height": 85,
          "referenced_widgets": [
            "08308631296847a2af2dfb20cd51248c",
            "7cb17cb891b24f6c892800f0d2b7a78d",
            "25822e46d90748f49ada0241ad8e84cc",
            "5a2831a605c84ad48a475d1c30ad903f",
            "f6f98214c39945918f818eb444d651c8",
            "0870786460c4411ea79783fe90585859",
            "6d319c4974aa4a178c9534e851ca9ab3",
            "5d56a5968527481892540fa825115427",
            "70d3f52661a342f595e5df0d66548940",
            "5db878fb3aac4d01b1cc853b9dececa5",
            "6bddbd7e19a644368bffd6a467006411"
          ]
        },
        "outputId": "95ef48ff-513f-4bba-f108-5c7da41447c0"
      },
      "outputs": [
        {
          "output_type": "stream",
          "name": "stdout",
          "text": [
            "Downloading https://www.itl.nist.gov/iaui/vip/cs_links/EMNIST/gzip.zip to data/EMNIST/raw/gzip.zip\n"
          ]
        },
        {
          "output_type": "display_data",
          "data": {
            "text/plain": [
              "  0%|          | 0/561753746 [00:00<?, ?it/s]"
            ],
            "application/vnd.jupyter.widget-view+json": {
              "version_major": 2,
              "version_minor": 0,
              "model_id": "08308631296847a2af2dfb20cd51248c"
            }
          },
          "metadata": {}
        },
        {
          "output_type": "stream",
          "name": "stdout",
          "text": [
            "Extracting data/EMNIST/raw/gzip.zip to data/EMNIST/raw\n"
          ]
        }
      ],
      "source": [
        "# EMNIST ByClass: 814,255 characters. 62 unbalanced classes.\n",
        "# 圖片進來時先做padding 上下左右都填充4個值為0的pixel，然後再隨機裁減圖片為28*28\n",
        "# 接著圖片值為[0~255]之間，經過ToTensor後(就是每一個像素除以255)值就變為[0~1]之間\n",
        "# 最後在再根據 RGB 做 normalize， mean = (0.4914, 0.4822, 0.4465), stddev = (0.2023, 0.1994, 0.2010) <- 這些值是根據cifar10 training dataset 所算出來的\n",
        "\n",
        "\n",
        "# 這區塊就是Data augmentation\n",
        "transform = transforms.Compose([ \n",
        "    lambda img : transforms.functional.rotate(img,-90),\n",
        "    lambda img : transforms.functional.hflip(img),\n",
        "    transforms.RandomCrop(28, padding=2),\n",
        "    # transforms.RandomResizedCrop(28, scale=(0.6, 0.8)),\n",
        "    transforms.RandomAdjustSharpness(sharpness_factor=2,p=0.5),\n",
        "    transforms.RandomRotation(degrees=(-30, 30)),\n",
        "    transforms.RandomAutocontrast(p=0.5),\n",
        "    transforms.ToTensor(),\n",
        "    transforms.Normalize((0.5,), (0.5)), # EMNIST原本就是灰階\n",
        "])\n",
        "\n",
        "# Number of Train: 697932, Number of Test: 116323\n",
        "trainSet = torchvision.datasets.EMNIST(root=\"data/\", split=\"byclass\", download=True, train=True, transform=transform)              \n",
        "trainLoader = torch.utils.data.DataLoader(trainSet, batch_size=512, shuffle=True)"
      ]
    },
    {
      "cell_type": "code",
      "source": [
        "def imshow(img):\n",
        "    img = img / 2 + 0.5     # unnormalize\n",
        "    npimg = img.numpy()\n",
        "    plt.imshow(np.transpose(npimg, (1, 2, 0)))\n",
        "    plt.show()\n",
        "\n",
        "# get some random training images\n",
        "for i, data in enumerate(trainLoader, 1):\n",
        "  images, labels = data\n",
        "  break\n",
        "\n",
        "imshow(torchvision.utils.make_grid(images[0:64]))\n",
        "print(\"images shape: \" ,images.shape)\n",
        "print(\"labels shape: \" ,labels.shape)"
      ],
      "metadata": {
        "id": "OL3ASQrbDbrm",
        "colab": {
          "base_uri": "https://localhost:8080/",
          "height": 305
        },
        "outputId": "a2c7047a-1ba0-44f8-fc59-da7ce43390aa"
      },
      "execution_count": 7,
      "outputs": [
        {
          "output_type": "display_data",
          "data": {
            "text/plain": [
              "<Figure size 432x288 with 1 Axes>"
            ],
            "image/png": "[encoded data removed]"
          },
          "metadata": {
            "needs_background": "light"
          }
        },
        {
          "output_type": "stream",
          "name": "stdout",
          "text": [
            "images shape:  torch.Size([512, 1, 28, 28])\n",
            "labels shape:  torch.Size([512])\n"
          ]
        }
      ]
    },
    {
      "cell_type": "code",
      "source": [
        ""
      ],
      "metadata": {
        "colab": {
          "base_uri": "https://localhost:8080/"
        },
        "id": "5hDx3kbu5TVF",
        "outputId": "77fb4d39-bd20-4e11-b012-bd096a7c9b18"
      },
      "execution_count": null,
      "outputs": [
        {
          "output_type": "stream",
          "name": "stdout",
          "text": [
            "Total No of Images in EMNIST dataset: 814255\n",
            "No of images in Training dataset:     697932\n",
            "No of images in Testing dataset:      116323\n",
            "No of classes:  62\n",
            "List of all classes\n",
            "['0', '1', '2', '3', '4', '5', '6', '7', '8', '9', 'A', 'B', 'C', 'D', 'E', 'F', 'G', 'H', 'I', 'J', 'K', 'L', 'M', 'N', 'O', 'P', 'Q', 'R', 'S', 'T', 'U', 'V', 'W', 'X', 'Y', 'Z', 'a', 'b', 'c', 'd', 'e', 'f', 'g', 'h', 'i', 'j', 'k', 'l', 'm', 'n', 'o', 'p', 'q', 'r', 's', 't', 'u', 'v', 'w', 'x', 'y', 'z']\n"
          ]
        }
      ]
    },
    {
      "cell_type": "code",
      "source": [
        "import torch.nn as nn\n",
        "import torch.nn.functional as F\n",
        "\n",
        "# Output func = (X + 2*padding - kernal)/ stride+1\n",
        "\n",
        "class Net(nn.Module):\n",
        "    def __init__(self):\n",
        "        super(Net, self).__init__()\n",
        "        self.conv1 = nn.Conv2d(1, 64, 5, padding=2)\n",
        "        self.conv2 = nn.Conv2d(64, 64, 5, padding=2)\n",
        "        self.conv3 = nn.Conv2d(64, 128, 3, padding=1)\n",
        "        self.conv4 = nn.Conv2d(128, 128, 3, padding=1)\n",
        "        self.pool = nn.MaxPool2d(2, 2)\n",
        "        self.bn_conv1 = nn.BatchNorm2d(64)\n",
        "        self.bn_conv2 = nn.BatchNorm2d(64)\n",
        "        self.bn_conv3 = nn.BatchNorm2d(128)\n",
        "        self.bn_conv4 = nn.BatchNorm2d(128)\n",
        "        self.bn_dense1 = nn.BatchNorm1d(1024)\n",
        "        self.bn_dense2 = nn.BatchNorm1d(512)\n",
        "        self.dropout_conv = nn.Dropout2d(p=0.25)\n",
        "        self.dropout = nn.Dropout(p=0.5)\n",
        "        self.fc1 = nn.Linear(128 * 7 * 7, 1024)\n",
        "        self.fc2 = nn.Linear(1024, 512)\n",
        "        self.fc3 = nn.Linear(512, 62)\n",
        "        # self.conv1 = nn.Conv2d(1, 64, 5, padding=1)\n",
        "        # self.conv2 = nn.Conv2d(64, 64, 5, padding=1)\n",
        "        # self.conv3 = nn.Conv2d(64, 64, 3, padding=1)\n",
        "        # self.conv4 = nn.Conv2d(64, 64, 3, padding=1)\n",
        "        # self.pool = nn.MaxPool2d(2, 2)\n",
        "        # self.bn_conv1 = nn.BatchNorm2d(64)\n",
        "        # self.bn_conv2 = nn.BatchNorm2d(64)\n",
        "        # self.bn_conv3 = nn.BatchNorm2d(64)\n",
        "        # self.bn_conv4 = nn.BatchNorm2d(64)\n",
        "        # self.bn_dense1 = nn.BatchNorm1d(1024)\n",
        "        # self.bn_dense2 = nn.BatchNorm1d(512)\n",
        "        # self.dropout_conv = nn.Dropout2d(p=0.25)\n",
        "        # self.dropout = nn.Dropout(p=0.5)\n",
        "        # self.fc1 = nn.Linear(64 * 6 * 6, 1024)\n",
        "        # self.fc2 = nn.Linear(1024, 512)\n",
        "        # self.fc3 = nn.Linear(512, 62)\n",
        "\n",
        "    def conv_layers(self, x):\n",
        "        out = F.relu(self.bn_conv1(self.conv1(x)))\n",
        "        out = F.relu(self.bn_conv2(self.conv2(out)))\n",
        "        out = self.pool(out)\n",
        "        out = self.dropout_conv(out)\n",
        "        out = F.relu(self.bn_conv3(self.conv3(out)))\n",
        "        out = F.relu(self.bn_conv4(self.conv4(out)))\n",
        "        out = self.pool(out)\n",
        "        out = self.dropout_conv(out)\n",
        "        return out\n",
        "\n",
        "    def dense_layers(self, x):\n",
        "        out = F.relu(self.bn_dense1(self.fc1(x)))\n",
        "        out = self.dropout(out)\n",
        "        out = F.relu(self.bn_dense2(self.fc2(out)))\n",
        "        out = self.dropout(out)\n",
        "        out = self.fc3(out)\n",
        "        return out\n",
        "\n",
        "    def forward(self, x):\n",
        "        out = self.conv_layers(x)\n",
        "        #print(out.shape)\n",
        "        out = out.view(-1, 128 * 7 * 7)\n",
        "        # out = out.view(x[0].shape, -1)\n",
        "        out = self.dense_layers(out)\n",
        "        return out\n",
        "\n",
        "net = Net()\n",
        "net.to(device)\n",
        "print(net)\n",
        "num_params = sum(p.numel() for p in net.parameters() if p.requires_grad)\n",
        "print(\"Number of trainable parameters:\", num_params)"
      ],
      "metadata": {
        "colab": {
          "base_uri": "https://localhost:8080/"
        },
        "id": "h8DAlgYDUE9Z",
        "outputId": "14dba7a2-b66d-4f42-c23b-fe0079d23723"
      },
      "execution_count": 17,
      "outputs": [
        {
          "output_type": "stream",
          "name": "stdout",
          "text": [
            "Net(\n",
            "  (conv1): Conv2d(1, 64, kernel_size=(5, 5), stride=(1, 1), padding=(2, 2))\n",
            "  (conv2): Conv2d(64, 64, kernel_size=(5, 5), stride=(1, 1), padding=(2, 2))\n",
            "  (conv3): Conv2d(64, 128, kernel_size=(3, 3), stride=(1, 1), padding=(1, 1))\n",
            "  (conv4): Conv2d(128, 128, kernel_size=(3, 3), stride=(1, 1), padding=(1, 1))\n",
            "  (pool): MaxPool2d(kernel_size=2, stride=2, padding=0, dilation=1, ceil_mode=False)\n",
            "  (bn_conv1): BatchNorm2d(64, eps=1e-05, momentum=0.1, affine=True, track_running_stats=True)\n",
            "  (bn_conv2): BatchNorm2d(64, eps=1e-05, momentum=0.1, affine=True, track_running_stats=True)\n",
            "  (bn_conv3): BatchNorm2d(128, eps=1e-05, momentum=0.1, affine=True, track_running_stats=True)\n",
            "  (bn_conv4): BatchNorm2d(128, eps=1e-05, momentum=0.1, affine=True, track_running_stats=True)\n",
            "  (bn_dense1): BatchNorm1d(1024, eps=1e-05, momentum=0.1, affine=True, track_running_stats=True)\n",
            "  (bn_dense2): BatchNorm1d(512, eps=1e-05, momentum=0.1, affine=True, track_running_stats=True)\n",
            "  (dropout_conv): Dropout2d(p=0.25, inplace=False)\n",
            "  (dropout): Dropout(p=0.5, inplace=False)\n",
            "  (fc1): Linear(in_features=6272, out_features=1024, bias=True)\n",
            "  (fc2): Linear(in_features=1024, out_features=512, bias=True)\n",
            "  (fc3): Linear(in_features=512, out_features=62, bias=True)\n",
            ")\n",
            "Number of trainable parameters: 7309566\n"
          ]
        }
      ]
    },
    {
      "cell_type": "code",
      "source": [
        "# specify loss function (categorical cross-entropy)\n",
        "criterion = nn.CrossEntropyLoss()\n",
        "optimizer = optim.Adam(net.parameters(), lr=0.01, betas=(0.9, 0.999), eps=1e-08, weight_decay=0, amsgrad=False)"
      ],
      "metadata": {
        "id": "RT0tV2TujXIK"
      },
      "execution_count": 18,
      "outputs": []
    },
    {
      "cell_type": "code",
      "execution_count": 53,
      "metadata": {
        "id": "96YVBD_3euOj",
        "colab": {
          "base_uri": "https://localhost:8080/"
        },
        "outputId": "4ad55847-3c17-4539-bc1f-1d9e1eaffd12"
      },
      "outputs": [
        {
          "output_type": "stream",
          "name": "stderr",
          "text": [
            "100%|██████████| 1364/1364 [05:35<00:00,  4.06it/s]\n"
          ]
        },
        {
          "output_type": "stream",
          "name": "stdout",
          "text": [
            "Epoch: 1, train_avg_loss: 0.0013885728706444927, train_avg_acc: 0.7679286807310741\n"
          ]
        },
        {
          "output_type": "stream",
          "name": "stderr",
          "text": [
            "100%|██████████| 1364/1364 [05:36<00:00,  4.05it/s]\n"
          ]
        },
        {
          "output_type": "stream",
          "name": "stdout",
          "text": [
            "Epoch: 2, train_avg_loss: 0.0010202117454503278, train_avg_acc: 0.8181943226560754\n"
          ]
        },
        {
          "output_type": "stream",
          "name": "stderr",
          "text": [
            "100%|██████████| 1364/1364 [05:36<00:00,  4.05it/s]\n"
          ]
        },
        {
          "output_type": "stream",
          "name": "stdout",
          "text": [
            "Epoch: 3, train_avg_loss: 0.0009636458180263668, train_avg_acc: 0.8265275127089745\n"
          ]
        },
        {
          "output_type": "stream",
          "name": "stderr",
          "text": [
            "100%|██████████| 1364/1364 [05:35<00:00,  4.06it/s]\n"
          ]
        },
        {
          "output_type": "stream",
          "name": "stdout",
          "text": [
            "Epoch: 4, train_avg_loss: 0.0009393477580383402, train_avg_acc: 0.8306410939747711\n"
          ]
        },
        {
          "output_type": "stream",
          "name": "stderr",
          "text": [
            "100%|██████████| 1364/1364 [05:39<00:00,  4.02it/s]\n"
          ]
        },
        {
          "output_type": "stream",
          "name": "stdout",
          "text": [
            "Epoch: 5, train_avg_loss: 0.0009141510597670207, train_avg_acc: 0.8342517609165363\n"
          ]
        },
        {
          "output_type": "stream",
          "name": "stderr",
          "text": [
            "100%|██████████| 1364/1364 [05:32<00:00,  4.10it/s]\n"
          ]
        },
        {
          "output_type": "stream",
          "name": "stdout",
          "text": [
            "Epoch: 6, train_avg_loss: 0.0009022199688097932, train_avg_acc: 0.8357261165844238\n"
          ]
        },
        {
          "output_type": "stream",
          "name": "stderr",
          "text": [
            "100%|██████████| 1364/1364 [05:33<00:00,  4.09it/s]\n"
          ]
        },
        {
          "output_type": "stream",
          "name": "stdout",
          "text": [
            "Epoch: 7, train_avg_loss: 0.0008916279068829173, train_avg_acc: 0.8376933569459489\n"
          ]
        },
        {
          "output_type": "stream",
          "name": "stderr",
          "text": [
            "100%|██████████| 1364/1364 [05:33<00:00,  4.08it/s]\n"
          ]
        },
        {
          "output_type": "stream",
          "name": "stdout",
          "text": [
            "Epoch: 8, train_avg_loss: 0.0008801408378289195, train_avg_acc: 0.8394155877649971\n"
          ]
        },
        {
          "output_type": "stream",
          "name": "stderr",
          "text": [
            "100%|██████████| 1364/1364 [05:34<00:00,  4.08it/s]\n"
          ]
        },
        {
          "output_type": "stream",
          "name": "stdout",
          "text": [
            "Epoch: 9, train_avg_loss: 0.0008710338124935346, train_avg_acc: 0.84091573391104\n"
          ]
        },
        {
          "output_type": "stream",
          "name": "stderr",
          "text": [
            "100%|██████████| 1364/1364 [05:40<00:00,  4.00it/s]"
          ]
        },
        {
          "output_type": "stream",
          "name": "stdout",
          "text": [
            "Epoch: 10, train_avg_loss: 0.0008657344942869492, train_avg_acc: 0.8418585191680565\n"
          ]
        },
        {
          "output_type": "stream",
          "name": "stderr",
          "text": [
            "\n"
          ]
        }
      ],
      "source": [
        "net.train()\n",
        "loss_hist, acc_hist = [], []\n",
        "\n",
        "net.train()\n",
        "for epoch in range(10):\n",
        "    running_loss = 0.0\n",
        "    correct = 0\n",
        "    for data in tqdm(trainLoader):\n",
        "        inputs, labels = data[0].to(device), data[1].to(device)\n",
        "\n",
        "        optimizer.zero_grad()\n",
        "        outputs = net(inputs)\n",
        "        loss = criterion(outputs, labels)\n",
        "        loss.backward()\n",
        "        optimizer.step()\n",
        "\n",
        "        # compute training statistics\n",
        "        _, predicted = torch.max(outputs, 1)\n",
        "        correct += (predicted == labels).sum().item()\n",
        "        running_loss += loss.item()\n",
        "\n",
        "    avg_loss = running_loss / len(trainSet)\n",
        "    avg_acc = correct / len(trainSet)\n",
        "    loss_hist.append(avg_loss)\n",
        "    acc_hist.append(avg_acc)\n",
        "    print(\"Epoch: {}, train_avg_loss: {}, train_avg_acc: {}\".format(epoch+1, avg_loss, avg_acc))\n",
        "    "
      ]
    },
    {
      "cell_type": "code",
      "source": [
        "PATH = './drive/MyDrive/Colab Notebooks/hw3_improve.pth'"
      ],
      "metadata": {
        "id": "10EzXLQROYjL"
      },
      "execution_count": 10,
      "outputs": []
    },
    {
      "cell_type": "code",
      "source": [
        "# 存模型參數\n",
        "net.to(device)\n",
        "torch.save(net.state_dict(), PATH)"
      ],
      "metadata": {
        "id": "ItTAWwiWnKv4"
      },
      "execution_count": 55,
      "outputs": []
    },
    {
      "cell_type": "code",
      "execution_count": 11,
      "metadata": {
        "id": "0kZLnDJGQTes",
        "colab": {
          "base_uri": "https://localhost:8080/"
        },
        "outputId": "15b5ea78-089e-4d9c-f7a2-15228ee6848c"
      },
      "outputs": [
        {
          "output_type": "execute_result",
          "data": {
            "text/plain": [
              "<All keys matched successfully>"
            ]
          },
          "metadata": {},
          "execution_count": 11
        }
      ],
      "source": [
        "#讀模型參數（讀回來）\n",
        "# net = Net().to(device)\n",
        "net.load_state_dict(torch.load(PATH))"
      ]
    },
    {
      "cell_type": "code",
      "source": [
        "# 這區塊就是Data augmentation\n",
        "transform_test = transforms.Compose([ \n",
        "    lambda img : transforms.functional.rotate(img,-90),\n",
        "    lambda img : transforms.functional.hflip(img),\n",
        "    transforms.RandomAdjustSharpness(sharpness_factor=2,p=0.5),\n",
        "    transforms.ToTensor(),\n",
        "    transforms.Normalize((0.5,), (0.5)), # EMNIST原本就是灰階\n",
        "])\n",
        "testSet = torchvision.datasets.EMNIST(root=\"data/\", split=\"byclass\", download=True, train=False, transform=transform_test)\n",
        "testLoader = torch.utils.data.DataLoader(testSet, batch_size=100, shuffle=True)"
      ],
      "metadata": {
        "id": "mhbvcgn0Qsmr"
      },
      "execution_count": 12,
      "outputs": []
    },
    {
      "cell_type": "code",
      "source": [
        "# get some random training images\n",
        "for i, data in enumerate(testLoader, 1):\n",
        "  test_images, test_labels = data\n",
        "  break\n",
        "\n",
        "imshow(torchvision.utils.make_grid(test_images[0:64]))"
      ],
      "metadata": {
        "colab": {
          "base_uri": "https://localhost:8080/",
          "height": 269
        },
        "id": "70bbCyinQwmw",
        "outputId": "ef17f846-0033-40c7-df69-f73552b28cfd"
      },
      "execution_count": 13,
      "outputs": [
        {
          "output_type": "display_data",
          "data": {
            "text/plain": [
              "<Figure size 432x288 with 1 Axes>"
            ],
            "image/png": "[encoded data removed]"
          },
          "metadata": {
            "needs_background": "light"
          }
        }
      ]
    },
    {
      "cell_type": "code",
      "execution_count": 19,
      "metadata": {
        "colab": {
          "base_uri": "https://localhost:8080/"
        },
        "id": "-AcG3txtvd4W",
        "outputId": "0c81ba41-e6b3-4b7b-a3a3-39cc5a2728f6"
      },
      "outputs": [
        {
          "output_type": "stream",
          "name": "stdout",
          "text": [
            "Accuracy of the network on the 10000 test images: 1 %\n",
            "Accuracy of 0: 0.000000\n",
            "Accuracy of 1: 0.000000\n",
            "Accuracy of 2: 0.000000\n",
            "Accuracy of 3: 0.000000\n",
            "Accuracy of 4: 0.000000\n",
            "Accuracy of 5: 0.000000\n",
            "Accuracy of 6: 0.000000\n",
            "Accuracy of 7: 0.000000\n",
            "Accuracy of 8: 0.000000\n",
            "Accuracy of 9: 0.000000\n",
            "Accuracy of 10: 0.000000\n",
            "Accuracy of 11: 0.000000\n",
            "Accuracy of 12: 1.000000\n",
            "Accuracy of 13: 0.000000\n",
            "Accuracy of 14: 0.000000\n",
            "Accuracy of 15: 0.000000\n",
            "Accuracy of 16: 0.000000\n",
            "Accuracy of 17: 0.000000\n",
            "Accuracy of 18: 0.000000\n",
            "Accuracy of 19: 0.000000\n",
            "Accuracy of 20: 0.000000\n",
            "Accuracy of 21: 0.000000\n",
            "Accuracy of 22: 0.000000\n",
            "Accuracy of 23: 0.000000\n",
            "Accuracy of 24: 0.000000\n",
            "Accuracy of 25: 0.000000\n",
            "Accuracy of 26: 0.000000\n",
            "Accuracy of 27: 0.000000\n",
            "Accuracy of 28: 0.000000\n",
            "Accuracy of 29: 0.000000\n",
            "Accuracy of 30: 0.000000\n",
            "Accuracy of 31: 0.000000\n",
            "Accuracy of 32: 0.000000\n",
            "Accuracy of 33: 0.000000\n",
            "Accuracy of 34: 0.000000\n",
            "Accuracy of 35: 0.000000\n",
            "Accuracy of 36: 0.000000\n",
            "Accuracy of 37: 0.000000\n",
            "Accuracy of 38: 0.000000\n",
            "Accuracy of 39: 0.000000\n",
            "Accuracy of 40: 0.000000\n",
            "Accuracy of 41: 0.000000\n",
            "Accuracy of 42: 0.000000\n",
            "Accuracy of 43: 0.000000\n",
            "Accuracy of 44: 0.000000\n",
            "Accuracy of 45: 0.000000\n",
            "Accuracy of 46: 0.000000\n",
            "Accuracy of 47: 0.000000\n",
            "Accuracy of 48: 0.000000\n",
            "Accuracy of 49: 0.000000\n",
            "Accuracy of 50: 0.000000\n",
            "Accuracy of 51: 0.000000\n",
            "Accuracy of 52: 0.000000\n",
            "Accuracy of 53: 0.000000\n",
            "Accuracy of 54: 0.000000\n",
            "Accuracy of 55: 0.000000\n",
            "Accuracy of 56: 0.000000\n",
            "Accuracy of 57: 0.000000\n",
            "Accuracy of 58: 0.000000\n",
            "Accuracy of 59: 0.000000\n",
            "Accuracy of 60: 0.000000\n",
            "Accuracy of 61: 0.000000\n"
          ]
        }
      ],
      "source": [
        "# Test\n",
        "correct = 0\n",
        "total = 0\n",
        "class_correct = [0 for i in range(62)]\n",
        "class_total = [0 for i in range(62)]\n",
        "\n",
        "net.eval()\n",
        "for i, data in enumerate(testLoader, 1):\n",
        "    with torch.no_grad():\n",
        "        inputs, labels = data[0].to(device), data[1].to(device)\n",
        "        outputs = net(inputs)\n",
        "        _, predicted = torch.max(outputs, 1)\n",
        "        total += labels.size(0)\n",
        "        correct += (predicted == labels).sum().item()\n",
        "        c = (predicted == labels).squeeze()\n",
        "        for i in range(len(labels)):\n",
        "            label = labels[i]\n",
        "            class_correct[label] += c[i].item()\n",
        "            class_total[label] += 1\n",
        "            # print(class_correct)\n",
        "            # print(class_total)\n",
        "\n",
        "print('Accuracy of the network on the 10000 test images: %d %%' % (100*correct / total))\n",
        "acc=[]\n",
        "for i in range(62):\n",
        "    acc.append(class_correct[i]/class_total[i])\n",
        "    print('Accuracy of %d: %3f' % (i, (class_correct[i]/class_total[i])))"
      ]
    },
    {
      "cell_type": "code",
      "source": [
        "print(testLoader)"
      ],
      "metadata": {
        "colab": {
          "base_uri": "https://localhost:8080/"
        },
        "id": "aBMLo9I13ihb",
        "outputId": "a0a03b81-fb62-4a96-cf47-48c74a44656f"
      },
      "execution_count": null,
      "outputs": [
        {
          "output_type": "stream",
          "name": "stdout",
          "text": [
            "<torch.utils.data.dataloader.DataLoader object at 0x7f278aec7cd0>\n"
          ]
        }
      ]
    },
    {
      "cell_type": "code",
      "source": [
        "loss_hist"
      ],
      "metadata": {
        "colab": {
          "base_uri": "https://localhost:8080/"
        },
        "id": "WfsuXQwvNWCZ",
        "outputId": "4f56d76e-32dd-4c57-bc92-ee52967ad623"
      },
      "execution_count": null,
      "outputs": [
        {
          "output_type": "execute_result",
          "data": {
            "text/plain": [
              "[0.0010586668239089359,\n",
              " 0.0008238229338249064,\n",
              " 0.0007831061783204374,\n",
              " 0.0007614964454037112,\n",
              " 0.0007465050252744051,\n",
              " 0.0007334273715946157,\n",
              " 0.0007206328581253904,\n",
              " 0.0007118137903022557,\n",
              " 0.0007023015496601103,\n",
              " 0.000692828604390251]"
            ]
          },
          "metadata": {},
          "execution_count": 135
        }
      ]
    },
    {
      "cell_type": "code",
      "source": [
        "loss_hist=[0.0013885728706444927, 0.0010202117454503278, 0.0009636458180263668, 0.0009393477580383402, 0.0009141510597670207, \n",
        " 0.0009022199688097932, 0.0008916279068829173,  0.0008801408378289195,0.0008710338124935346, 0.0008657344942869492]"
      ],
      "metadata": {
        "id": "Cip7lSFFPrSL"
      },
      "execution_count": 20,
      "outputs": []
    },
    {
      "cell_type": "code",
      "source": [
        "import matplotlib.pyplot as plt\n",
        "x=np.array([1,2,3,4,5,6,7,8,9,10])\n",
        "plt.xlabel('Epoches')\n",
        "plt.ylabel('Training Loss')\n",
        "plt.title('Training Procedure')\n",
        "\n",
        "plt.plot(x,loss_hist)\n",
        "plt.show()"
      ],
      "metadata": {
        "colab": {
          "base_uri": "https://localhost:8080/",
          "height": 295
        },
        "id": "5aAy66Dm9W2v",
        "outputId": "9ce1268e-016e-46c0-e3de-9d244ef0fafd"
      },
      "execution_count": 21,
      "outputs": [
        {
          "output_type": "display_data",
          "data": {
            "text/plain": [
              "<Figure size 432x288 with 1 Axes>"
            ],
            "image/png": "[encoded data removed]"
          },
          "metadata": {
            "needs_background": "light"
          }
        }
      ]
    }
  ],
  "metadata": {
    "accelerator": "GPU",
    "colab": {
      "collapsed_sections": [],
      "name": "DL_hw3_Evonne_Improve.ipynb",
      "provenance": []
    },
    "kernelspec": {
      "display_name": "Python 3 (ipykernel)",
      "language": "python",
      "name": "python3"
    },
    "language_info": {
      "codemirror_mode": {
        "name": "ipython",
        "version": 3
      },
      "file_extension": ".py",
      "mimetype": "text/x-python",
      "name": "python",
      "nbconvert_exporter": "python",
      "pygments_lexer": "ipython3",
      "version": "3.8.8"
    },
    "widgets": {
      "application/vnd.jupyter.widget-state+json": {
        "08308631296847a2af2dfb20cd51248c": {
          "model_module": "@jupyter-widgets/controls",
          "model_name": "HBoxModel",
          "model_module_version": "1.5.0",
          "state": {
            "_dom_classes": [],
            "_model_module": "@jupyter-widgets/controls",
            "_model_module_version": "1.5.0",
            "_model_name": "HBoxModel",
            "_view_count": null,
            "_view_module": "@jupyter-widgets/controls",
            "_view_module_version": "1.5.0",
            "_view_name": "HBoxView",
            "box_style": "",
            "children": [
              "IPY_MODEL_7cb17cb891b24f6c892800f0d2b7a78d",
              "IPY_MODEL_25822e46d90748f49ada0241ad8e84cc",
              "IPY_MODEL_5a2831a605c84ad48a475d1c30ad903f"
            ],
            "layout": "IPY_MODEL_f6f98214c39945918f818eb444d651c8"
          }
        },
        "7cb17cb891b24f6c892800f0d2b7a78d": {
          "model_module": "@jupyter-widgets/controls",
          "model_name": "HTMLModel",
          "model_module_version": "1.5.0",
          "state": {
            "_dom_classes": [],
            "_model_module": "@jupyter-widgets/controls",
            "_model_module_version": "1.5.0",
            "_model_name": "HTMLModel",
            "_view_count": null,
            "_view_module": "@jupyter-widgets/controls",
            "_view_module_version": "1.5.0",
            "_view_name": "HTMLView",
            "description": "",
            "description_tooltip": null,
            "layout": "IPY_MODEL_0870786460c4411ea79783fe90585859",
            "placeholder": "​",
            "style": "IPY_MODEL_6d319c4974aa4a178c9534e851ca9ab3",
            "value": ""
          }
        },
        "25822e46d90748f49ada0241ad8e84cc": {
          "model_module": "@jupyter-widgets/controls",
          "model_name": "FloatProgressModel",
          "model_module_version": "1.5.0",
          "state": {
            "_dom_classes": [],
            "_model_module": "@jupyter-widgets/controls",
            "_model_module_version": "1.5.0",
            "_model_name": "FloatProgressModel",
            "_view_count": null,
            "_view_module": "@jupyter-widgets/controls",
            "_view_module_version": "1.5.0",
            "_view_name": "ProgressView",
            "bar_style": "success",
            "description": "",
            "description_tooltip": null,
            "layout": "IPY_MODEL_5d56a5968527481892540fa825115427",
            "max": 561753746,
            "min": 0,
            "orientation": "horizontal",
            "style": "IPY_MODEL_70d3f52661a342f595e5df0d66548940",
            "value": 561753746
          }
        },
        "5a2831a605c84ad48a475d1c30ad903f": {
          "model_module": "@jupyter-widgets/controls",
          "model_name": "HTMLModel",
          "model_module_version": "1.5.0",
          "state": {
            "_dom_classes": [],
            "_model_module": "@jupyter-widgets/controls",
            "_model_module_version": "1.5.0",
            "_model_name": "HTMLModel",
            "_view_count": null,
            "_view_module": "@jupyter-widgets/controls",
            "_view_module_version": "1.5.0",
            "_view_name": "HTMLView",
            "description": "",
            "description_tooltip": null,
            "layout": "IPY_MODEL_5db878fb3aac4d01b1cc853b9dececa5",
            "placeholder": "​",
            "style": "IPY_MODEL_6bddbd7e19a644368bffd6a467006411",
            "value": " 561754112/? [00:08&lt;00:00, 67903345.23it/s]"
          }
        },
        "f6f98214c39945918f818eb444d651c8": {
          "model_module": "@jupyter-widgets/base",
          "model_name": "LayoutModel",
          "model_module_version": "1.2.0",
          "state": {
            "_model_module": "@jupyter-widgets/base",
            "_model_module_version": "1.2.0",
            "_model_name": "LayoutModel",
            "_view_count": null,
            "_view_module": "@jupyter-widgets/base",
            "_view_module_version": "1.2.0",
            "_view_name": "LayoutView",
            "align_content": null,
            "align_items": null,
            "align_self": null,
            "border": null,
            "bottom": null,
            "display": null,
            "flex": null,
            "flex_flow": null,
            "grid_area": null,
            "grid_auto_columns": null,
            "grid_auto_flow": null,
            "grid_auto_rows": null,
            "grid_column": null,
            "grid_gap": null,
            "grid_row": null,
            "grid_template_areas": null,
            "grid_template_columns": null,
            "grid_template_rows": null,
            "height": null,
            "justify_content": null,
            "justify_items": null,
            "left": null,
            "margin": null,
            "max_height": null,
            "max_width": null,
            "min_height": null,
            "min_width": null,
            "object_fit": null,
            "object_position": null,
            "order": null,
            "overflow": null,
            "overflow_x": null,
            "overflow_y": null,
            "padding": null,
            "right": null,
            "top": null,
            "visibility": null,
            "width": null
          }
        },
        "0870786460c4411ea79783fe90585859": {
          "model_module": "@jupyter-widgets/base",
          "model_name": "LayoutModel",
          "model_module_version": "1.2.0",
          "state": {
            "_model_module": "@jupyter-widgets/base",
            "_model_module_version": "1.2.0",
            "_model_name": "LayoutModel",
            "_view_count": null,
            "_view_module": "@jupyter-widgets/base",
            "_view_module_version": "1.2.0",
            "_view_name": "LayoutView",
            "align_content": null,
            "align_items": null,
            "align_self": null,
            "border": null,
            "bottom": null,
            "display": null,
            "flex": null,
            "flex_flow": null,
            "grid_area": null,
            "grid_auto_columns": null,
            "grid_auto_flow": null,
            "grid_auto_rows": null,
            "grid_column": null,
            "grid_gap": null,
            "grid_row": null,
            "grid_template_areas": null,
            "grid_template_columns": null,
            "grid_template_rows": null,
            "height": null,
            "justify_content": null,
            "justify_items": null,
            "left": null,
            "margin": null,
            "max_height": null,
            "max_width": null,
            "min_height": null,
            "min_width": null,
            "object_fit": null,
            "object_position": null,
            "order": null,
            "overflow": null,
            "overflow_x": null,
            "overflow_y": null,
            "padding": null,
            "right": null,
            "top": null,
            "visibility": null,
            "width": null
          }
        },
        "6d319c4974aa4a178c9534e851ca9ab3": {
          "model_module": "@jupyter-widgets/controls",
          "model_name": "DescriptionStyleModel",
          "model_module_version": "1.5.0",
          "state": {
            "_model_module": "@jupyter-widgets/controls",
            "_model_module_version": "1.5.0",
            "_model_name": "DescriptionStyleModel",
            "_view_count": null,
            "_view_module": "@jupyter-widgets/base",
            "_view_module_version": "1.2.0",
            "_view_name": "StyleView",
            "description_width": ""
          }
        },
        "5d56a5968527481892540fa825115427": {
          "model_module": "@jupyter-widgets/base",
          "model_name": "LayoutModel",
          "model_module_version": "1.2.0",
          "state": {
            "_model_module": "@jupyter-widgets/base",
            "_model_module_version": "1.2.0",
            "_model_name": "LayoutModel",
            "_view_count": null,
            "_view_module": "@jupyter-widgets/base",
            "_view_module_version": "1.2.0",
            "_view_name": "LayoutView",
            "align_content": null,
            "align_items": null,
            "align_self": null,
            "border": null,
            "bottom": null,
            "display": null,
            "flex": null,
            "flex_flow": null,
            "grid_area": null,
            "grid_auto_columns": null,
            "grid_auto_flow": null,
            "grid_auto_rows": null,
            "grid_column": null,
            "grid_gap": null,
            "grid_row": null,
            "grid_template_areas": null,
            "grid_template_columns": null,
            "grid_template_rows": null,
            "height": null,
            "justify_content": null,
            "justify_items": null,
            "left": null,
            "margin": null,
            "max_height": null,
            "max_width": null,
            "min_height": null,
            "min_width": null,
            "object_fit": null,
            "object_position": null,
            "order": null,
            "overflow": null,
            "overflow_x": null,
            "overflow_y": null,
            "padding": null,
            "right": null,
            "top": null,
            "visibility": null,
            "width": null
          }
        },
        "70d3f52661a342f595e5df0d66548940": {
          "model_module": "@jupyter-widgets/controls",
          "model_name": "ProgressStyleModel",
          "model_module_version": "1.5.0",
          "state": {
            "_model_module": "@jupyter-widgets/controls",
            "_model_module_version": "1.5.0",
            "_model_name": "ProgressStyleModel",
            "_view_count": null,
            "_view_module": "@jupyter-widgets/base",
            "_view_module_version": "1.2.0",
            "_view_name": "StyleView",
            "bar_color": null,
            "description_width": ""
          }
        },
        "5db878fb3aac4d01b1cc853b9dececa5": {
          "model_module": "@jupyter-widgets/base",
          "model_name": "LayoutModel",
          "model_module_version": "1.2.0",
          "state": {
            "_model_module": "@jupyter-widgets/base",
            "_model_module_version": "1.2.0",
            "_model_name": "LayoutModel",
            "_view_count": null,
            "_view_module": "@jupyter-widgets/base",
            "_view_module_version": "1.2.0",
            "_view_name": "LayoutView",
            "align_content": null,
            "align_items": null,
            "align_self": null,
            "border": null,
            "bottom": null,
            "display": null,
            "flex": null,
            "flex_flow": null,
            "grid_area": null,
            "grid_auto_columns": null,
            "grid_auto_flow": null,
            "grid_auto_rows": null,
            "grid_column": null,
            "grid_gap": null,
            "grid_row": null,
            "grid_template_areas": null,
            "grid_template_columns": null,
            "grid_template_rows": null,
            "height": null,
            "justify_content": null,
            "justify_items": null,
            "left": null,
            "margin": null,
            "max_height": null,
            "max_width": null,
            "min_height": null,
            "min_width": null,
            "object_fit": null,
            "object_position": null,
            "order": null,
            "overflow": null,
            "overflow_x": null,
            "overflow_y": null,
            "padding": null,
            "right": null,
            "top": null,
            "visibility": null,
            "width": null
          }
        },
        "6bddbd7e19a644368bffd6a467006411": {
          "model_module": "@jupyter-widgets/controls",
          "model_name": "DescriptionStyleModel",
          "model_module_version": "1.5.0",
          "state": {
            "_model_module": "@jupyter-widgets/controls",
            "_model_module_version": "1.5.0",
            "_model_name": "DescriptionStyleModel",
            "_view_count": null,
            "_view_module": "@jupyter-widgets/base",
            "_view_module_version": "1.2.0",
            "_view_name": "StyleView",
            "description_width": ""
          }
        }
      }
    }
  },
  "nbformat": 4,
  "nbformat_minor": 0
}