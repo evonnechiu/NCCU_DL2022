{
  "cells": [
    {
      "cell_type": "markdown",
      "metadata": {
        "id": "0_MeV8y-NoXX"
      },
      "source": [
        "# Training a Classifier (CNN) Datasets- EMNIST\n",
        "\n",
        "We will use the EMNIST dataset.\n",
        "\n",
        "\n",
        "*   EMNIST ByClass: 814,255 characters. 62 unbalanced classes.\n",
        "*   EMNIST ByMerge: 814,255 characters. 47 unbalanced classes.\n",
        "*   EMNIST Balanced:  131,600 characters. 47 balanced classes.\n",
        "*   EMNIST Letters: 145,600 characters. 26 balanced classes.\n",
        "*   EMNIST Digits: 280,000 characters. 10 balanced classes.\n",
        "*   EMNIST MNIST: 70,000 characters. 10 balanced classes.\n",
        "\n",
        "\n",
        "The images in EMNIST are of\n",
        "size 1x28x28, i.e. 1-channel color(grey) images of 28x28 pixels in size."
      ]
    },
    {
      "cell_type": "code",
      "source": [
        "from google.colab import drive\n",
        "drive.mount('/content/drive') #掛載你的雲端硬碟到colab上的路徑"
      ],
      "metadata": {
        "colab": {
          "base_uri": "https://localhost:8080/"
        },
        "id": "ukK7aBrGLgRM",
        "outputId": "065b773c-3758-4f96-9739-791715730c1d"
      },
      "execution_count": null,
      "outputs": [
        {
          "output_type": "stream",
          "name": "stdout",
          "text": [
            "Mounted at /content/drive\n"
          ]
        }
      ]
    },
    {
      "cell_type": "code",
      "execution_count": null,
      "metadata": {
        "id": "NSShhjwpXmlq"
      },
      "outputs": [],
      "source": [
        "import torch\n",
        "import torchvision\n",
        "import torchvision.transforms as transforms\n",
        "import torch.nn as nn\n",
        "import torch.nn.functional as F\n",
        "import numpy as np\n",
        "import torch.optim as optim\n",
        "from tqdm import tqdm\n",
        "from torch.autograd import Variable\n"
      ]
    },
    {
      "cell_type": "code",
      "source": [
        "from psutil import virtual_memory\n",
        "ram_gb = virtual_memory().total / 1e9\n",
        "print('Your runtime has {:.1f} gigabytes of available RAM\\n'.format(ram_gb))\n",
        "\n",
        "if ram_gb < 20:\n",
        "  print('Not using a high-RAM runtime')\n",
        "else:\n",
        "  print('You are using a high-RAM runtime!')"
      ],
      "metadata": {
        "id": "vRiIfXdAKMXb",
        "outputId": "9ea08305-a860-4003-8276-7ff6a984bfdf",
        "colab": {
          "base_uri": "https://localhost:8080/"
        }
      },
      "execution_count": null,
      "outputs": [
        {
          "output_type": "stream",
          "name": "stdout",
          "text": [
            "Your runtime has 13.6 gigabytes of available RAM\n",
            "\n",
            "Not using a high-RAM runtime\n"
          ]
        }
      ]
    },
    {
      "cell_type": "code",
      "source": [
        "gpu_info = !nvidia-smi\n",
        "gpu_info = '\\n'.join(gpu_info)\n",
        "if gpu_info.find('failed') >= 0:\n",
        "  print('Not connected to a GPU')\n",
        "else:\n",
        "  print(gpu_info)"
      ],
      "metadata": {
        "colab": {
          "base_uri": "https://localhost:8080/"
        },
        "id": "weFSzb5XHOmw",
        "outputId": "567a3138-7166-4a43-b6d0-4349aa761474"
      },
      "execution_count": null,
      "outputs": [
        {
          "output_type": "stream",
          "name": "stdout",
          "text": [
            "Sun Apr 10 06:35:41 2022       \n",
            "+-----------------------------------------------------------------------------+\n",
            "| NVIDIA-SMI 460.32.03    Driver Version: 460.32.03    CUDA Version: 11.2     |\n",
            "|-------------------------------+----------------------+----------------------+\n",
            "| GPU  Name        Persistence-M| Bus-Id        Disp.A | Volatile Uncorr. ECC |\n",
            "| Fan  Temp  Perf  Pwr:Usage/Cap|         Memory-Usage | GPU-Util  Compute M. |\n",
            "|                               |                      |               MIG M. |\n",
            "|===============================+======================+======================|\n",
            "|   0  Tesla P100-PCIE...  Off  | 00000000:00:04.0 Off |                    0 |\n",
            "| N/A   36C    P0    27W / 250W |      0MiB / 16280MiB |      0%      Default |\n",
            "|                               |                      |                  N/A |\n",
            "+-------------------------------+----------------------+----------------------+\n",
            "                                                                               \n",
            "+-----------------------------------------------------------------------------+\n",
            "| Processes:                                                                  |\n",
            "|  GPU   GI   CI        PID   Type   Process name                  GPU Memory |\n",
            "|        ID   ID                                                   Usage      |\n",
            "|=============================================================================|\n",
            "|  No running processes found                                                 |\n",
            "+-----------------------------------------------------------------------------+\n"
          ]
        }
      ]
    },
    {
      "cell_type": "code",
      "source": [
        "# GPU\n",
        "device = 'cuda:0' if torch.cuda.is_available() else 'cpu'\n",
        "print('GPU State:', device)"
      ],
      "metadata": {
        "colab": {
          "base_uri": "https://localhost:8080/"
        },
        "id": "fLIxJpGCQtH1",
        "outputId": "a587585e-1ed1-4f64-ec86-7019bbb3e066"
      },
      "execution_count": null,
      "outputs": [
        {
          "output_type": "stream",
          "name": "stdout",
          "text": [
            "GPU State: cuda:0\n"
          ]
        }
      ]
    },
    {
      "cell_type": "code",
      "execution_count": null,
      "metadata": {
        "id": "9lgtysKxNqqy"
      },
      "outputs": [],
      "source": [
        "# EMNIST ByClass: 814,255 characters. 62 unbalanced classes.\n",
        "\n",
        "# 圖片進來時先做padding 上下左右都填充4個值為0的pixel，然後再隨機裁減圖片為32*32。接著有0.5的機率左右翻轉\n",
        "# 接著圖片值為[0~255]之間，經過ToTensor後(就是每一個像素除以255)值就變為[0~1]之間\n",
        "# 最後在再根據 RGB 做 normalize， mean = (0.4914, 0.4822, 0.4465), stddev = (0.2023, 0.1994, 0.2010) <- 這些值是根據cifar10 training dataset 所算出來的\n",
        "\n",
        "\n",
        "# 這區塊就是Data augmentation\n",
        "transform = transforms.Compose([ \n",
        "    lambda img : transforms.functional.rotate(img,-90),\n",
        "    lambda img : transforms.functional.hflip(img),\n",
        "    # transforms.RandomCrop(28, padding=4),\n",
        "    transforms.ToTensor(),\n",
        "    transforms.Normalize((0.5,), (0.5)), # EMNIST原本就是灰階\n",
        "])\n",
        "\n",
        "# Number of Train: 697932, Number of Test: 116323\n",
        "trainSet = torchvision.datasets.EMNIST(root=\"data/\", split=\"byclass\", download=True, train=True, transform=transform)              \n",
        "testSet = torchvision.datasets.EMNIST(root=\"data/\", split=\"byclass\", download=True, train=False, transform=transform)\n",
        "trainLoader = torch.utils.data.DataLoader(trainSet, batch_size=512, shuffle=True)\n",
        "testLoader = torch.utils.data.DataLoader(testSet, batch_size=100, shuffle=True)\n",
        "\n"
      ]
    },
    {
      "cell_type": "code",
      "source": [
        "trainSet"
      ],
      "metadata": {
        "id": "IOJdVMSgi3Vw"
      },
      "execution_count": null,
      "outputs": []
    },
    {
      "cell_type": "code",
      "source": [
        "testSet"
      ],
      "metadata": {
        "id": "uN30Byw7i5eY"
      },
      "execution_count": null,
      "outputs": []
    },
    {
      "cell_type": "code",
      "source": [
        "print(\"Total No of Images in EMNIST dataset:\", len(trainSet) + len(testSet))\n",
        "print(\"No of images in Training dataset:    \",len(trainSet))\n",
        "print(\"No of images in Testing dataset:     \",len(testSet))\n",
        "l = trainSet.classes\n",
        "l.sort()\n",
        "print(\"No of classes: \",len(l))\n",
        "print(\"List of all classes\")\n",
        "print(l)\n",
        "classes=l"
      ],
      "metadata": {
        "colab": {
          "base_uri": "https://localhost:8080/"
        },
        "id": "O8NJkSSzvuqt",
        "outputId": "d923b490-b14f-4dd2-adc1-d42a22bff9c0"
      },
      "execution_count": null,
      "outputs": [
        {
          "output_type": "stream",
          "name": "stdout",
          "text": [
            "Total No of Images in EMNIST dataset: 814255\n",
            "No of images in Training dataset:     697932\n",
            "No of images in Testing dataset:      116323\n",
            "No of classes:  62\n",
            "List of all classes\n",
            "['0', '1', '2', '3', '4', '5', '6', '7', '8', '9', 'A', 'B', 'C', 'D', 'E', 'F', 'G', 'H', 'I', 'J', 'K', 'L', 'M', 'N', 'O', 'P', 'Q', 'R', 'S', 'T', 'U', 'V', 'W', 'X', 'Y', 'Z', 'a', 'b', 'c', 'd', 'e', 'f', 'g', 'h', 'i', 'j', 'k', 'l', 'm', 'n', 'o', 'p', 'q', 'r', 's', 't', 'u', 'v', 'w', 'x', 'y', 'z']\n"
          ]
        }
      ]
    },
    {
      "cell_type": "code",
      "source": [
        "import matplotlib.pyplot as plt\n",
        "import numpy as np\n",
        "\n",
        "def imshow(img):\n",
        "    img = img / 2 + 0.5     # unnormalize\n",
        "    npimg = img.numpy()\n",
        "    plt.imshow(np.transpose(npimg, (1, 2, 0)))\n",
        "    plt.show()\n",
        "\n",
        "# get some random training images\n",
        "\n",
        "for i, data in enumerate(trainLoader, 1):\n",
        "  images, labels = data\n",
        "  break\n",
        "\n",
        "\n"
      ],
      "metadata": {
        "id": "OL3ASQrbDbrm"
      },
      "execution_count": null,
      "outputs": []
    },
    {
      "cell_type": "code",
      "source": [
        "imshow(torchvision.utils.make_grid(images[1]))\n",
        "print(\"images shape: \" ,images.shape)\n",
        "print(\"labels shape: \" ,labels.shape)"
      ],
      "metadata": {
        "colab": {
          "base_uri": "https://localhost:8080/",
          "height": 302
        },
        "id": "0HPwTlYOMqrX",
        "outputId": "b9889461-18e7-467a-c1e1-931d2a7822be"
      },
      "execution_count": null,
      "outputs": [
        {
          "output_type": "display_data",
          "data": {
            "text/plain": [
              "<Figure size 432x288 with 1 Axes>"
            ],
            "image/png": "[encoded data removed]"
          },
          "metadata": {
            "needs_background": "light"
          }
        },
        {
          "output_type": "stream",
          "name": "stdout",
          "text": [
            "images shape:  torch.Size([512, 1, 28, 28])\n",
            "labels shape:  torch.Size([512])\n"
          ]
        }
      ]
    },
    {
      "cell_type": "code",
      "source": [
        "m = nn.Conv2d(1, 64, 5, padding=0)\n",
        "m = nn.Conv2d(64, 64, 5, padding=0)\n",
        "print(m)\n",
        "print(m.weight.shape)\n",
        "print(m.bias.shape)"
      ],
      "metadata": {
        "colab": {
          "base_uri": "https://localhost:8080/"
        },
        "id": "soKFwqGOY7UK",
        "outputId": "59ed58db-df05-4b26-c84d-40c61ce0f99c"
      },
      "execution_count": null,
      "outputs": [
        {
          "output_type": "stream",
          "name": "stdout",
          "text": [
            "Conv2d(64, 64, kernel_size=(5, 5), stride=(1, 1))\n",
            "torch.Size([64, 64, 5, 5])\n",
            "torch.Size([64])\n"
          ]
        }
      ]
    },
    {
      "cell_type": "code",
      "source": [
        ""
      ],
      "metadata": {
        "id": "HUVTW7MVDhGn"
      },
      "execution_count": null,
      "outputs": []
    },
    {
      "cell_type": "code",
      "source": [
        "import torch.nn as nn\n",
        "import torch.nn.functional as F\n",
        "\n",
        "# Output func = (X + 2*padding - kernal)/ stride+1\n",
        "\n",
        "class Net(nn.Module):\n",
        "    def __init__(self):\n",
        "        super(Net, self).__init__()\n",
        "        self.conv1 = nn.Conv2d(1, 64, 5, padding=2)\n",
        "        self.conv2 = nn.Conv2d(64, 64, 5, padding=2)\n",
        "        self.conv3 = nn.Conv2d(64, 128, 3, padding=1)\n",
        "        self.conv4 = nn.Conv2d(128, 128, 3, padding=1)\n",
        "        self.pool = nn.MaxPool2d(2, 2)\n",
        "        self.bn_conv1 = nn.BatchNorm2d(64)\n",
        "        self.bn_conv2 = nn.BatchNorm2d(64)\n",
        "        self.bn_conv3 = nn.BatchNorm2d(128)\n",
        "        self.bn_conv4 = nn.BatchNorm2d(128)\n",
        "        self.bn_dense1 = nn.BatchNorm1d(1024)\n",
        "        self.bn_dense2 = nn.BatchNorm1d(512)\n",
        "        self.dropout_conv = nn.Dropout2d(p=0.25)\n",
        "        self.dropout = nn.Dropout(p=0.5)\n",
        "        self.fc1 = nn.Linear(128 * 7 * 7, 1024)\n",
        "        self.fc2 = nn.Linear(1024, 512)\n",
        "        self.fc3 = nn.Linear(512, 62)\n",
        "\n",
        "    def conv_layers(self, x):\n",
        "        out = F.relu(self.bn_conv1(self.conv1(x)))\n",
        "        out = F.relu(self.bn_conv2(self.conv2(out)))\n",
        "        out = self.pool(out)\n",
        "        out = self.dropout_conv(out)\n",
        "        out = F.relu(self.bn_conv3(self.conv3(out)))\n",
        "        out = F.relu(self.bn_conv4(self.conv4(out)))\n",
        "        out = self.pool(out)\n",
        "        out = self.dropout_conv(out)\n",
        "        return out\n",
        "\n",
        "    def dense_layers(self, x):\n",
        "        out = F.relu(self.bn_dense1(self.fc1(x)))\n",
        "        out = self.dropout(out)\n",
        "        out = F.relu(self.bn_dense2(self.fc2(out)))\n",
        "        out = self.dropout(out)\n",
        "        out = self.fc3(out)\n",
        "        return out\n",
        "\n",
        "    def forward(self, x):\n",
        "        out = self.conv_layers(x)\n",
        "        # print(out.shape)\n",
        "        out = out.view(-1, 128 * 7 * 7)\n",
        "        # out = out.view(x[0].shape, -1)\n",
        "        out = self.dense_layers(out)\n",
        "        return out\n",
        "\n",
        "net = Net()\n",
        "net.to(device)\n",
        "print(net)\n",
        "num_params = sum(p.numel() for p in net.parameters() if p.requires_grad)\n",
        "print(\"Number of trainable parameters:\", num_params)"
      ],
      "metadata": {
        "colab": {
          "base_uri": "https://localhost:8080/"
        },
        "id": "h8DAlgYDUE9Z",
        "outputId": "b5c4a0a0-6168-48fe-81ed-87f477ec8aeb"
      },
      "execution_count": null,
      "outputs": [
        {
          "output_type": "stream",
          "name": "stdout",
          "text": [
            "Net(\n",
            "  (conv1): Conv2d(1, 64, kernel_size=(5, 5), stride=(1, 1), padding=(2, 2))\n",
            "  (conv2): Conv2d(64, 64, kernel_size=(5, 5), stride=(1, 1), padding=(2, 2))\n",
            "  (conv3): Conv2d(64, 128, kernel_size=(3, 3), stride=(1, 1), padding=(1, 1))\n",
            "  (conv4): Conv2d(128, 128, kernel_size=(3, 3), stride=(1, 1), padding=(1, 1))\n",
            "  (pool): MaxPool2d(kernel_size=2, stride=2, padding=0, dilation=1, ceil_mode=False)\n",
            "  (bn_conv1): BatchNorm2d(64, eps=1e-05, momentum=0.1, affine=True, track_running_stats=True)\n",
            "  (bn_conv2): BatchNorm2d(64, eps=1e-05, momentum=0.1, affine=True, track_running_stats=True)\n",
            "  (bn_conv3): BatchNorm2d(128, eps=1e-05, momentum=0.1, affine=True, track_running_stats=True)\n",
            "  (bn_conv4): BatchNorm2d(128, eps=1e-05, momentum=0.1, affine=True, track_running_stats=True)\n",
            "  (bn_dense1): BatchNorm1d(1024, eps=1e-05, momentum=0.1, affine=True, track_running_stats=True)\n",
            "  (bn_dense2): BatchNorm1d(512, eps=1e-05, momentum=0.1, affine=True, track_running_stats=True)\n",
            "  (dropout_conv): Dropout2d(p=0.25, inplace=False)\n",
            "  (dropout): Dropout(p=0.5, inplace=False)\n",
            "  (fc1): Linear(in_features=6272, out_features=1024, bias=True)\n",
            "  (fc2): Linear(in_features=1024, out_features=512, bias=True)\n",
            "  (fc3): Linear(in_features=512, out_features=62, bias=True)\n",
            ")\n",
            "Number of trainable parameters: 7309566\n"
          ]
        }
      ]
    },
    {
      "cell_type": "code",
      "source": [
        "# specify loss function (categorical cross-entropy)\n",
        "criterion = nn.CrossEntropyLoss()\n",
        "optimizer = optim.Adam(net.parameters(), lr=0.01, betas=(0.9, 0.999), eps=1e-08, weight_decay=0, amsgrad=False)"
      ],
      "metadata": {
        "id": "RT0tV2TujXIK"
      },
      "execution_count": null,
      "outputs": []
    },
    {
      "cell_type": "code",
      "execution_count": null,
      "metadata": {
        "id": "96YVBD_3euOj",
        "colab": {
          "base_uri": "https://localhost:8080/"
        },
        "outputId": "81d5ed3b-33e6-4222-d055-7c971a42eac7"
      },
      "outputs": [
        {
          "output_type": "stream",
          "name": "stderr",
          "text": [
            "100%|██████████| 1364/1364 [07:34<00:00,  3.00it/s]\n"
          ]
        },
        {
          "output_type": "stream",
          "name": "stdout",
          "text": [
            "Epoch: 0, train_avg_loss: 0.0010581896471504996, train_avg_acc: 0.8170093934652659\n"
          ]
        },
        {
          "output_type": "stream",
          "name": "stderr",
          "text": [
            "100%|██████████| 1364/1364 [07:45<00:00,  2.93it/s]\n"
          ]
        },
        {
          "output_type": "stream",
          "name": "stdout",
          "text": [
            "Epoch: 1, train_avg_loss: 0.0008210400287078262, train_avg_acc: 0.8494294573110275\n"
          ]
        },
        {
          "output_type": "stream",
          "name": "stderr",
          "text": [
            "100%|██████████| 1364/1364 [07:42<00:00,  2.95it/s]\n"
          ]
        },
        {
          "output_type": "stream",
          "name": "stdout",
          "text": [
            "Epoch: 2, train_avg_loss: 0.0007815952063570827, train_avg_acc: 0.8550216926577374\n"
          ]
        },
        {
          "output_type": "stream",
          "name": "stderr",
          "text": [
            "100%|██████████| 1364/1364 [07:31<00:00,  3.02it/s]\n"
          ]
        },
        {
          "output_type": "stream",
          "name": "stdout",
          "text": [
            "Epoch: 3, train_avg_loss: 0.0007578977157812135, train_avg_acc: 0.8587885352727773\n"
          ]
        },
        {
          "output_type": "stream",
          "name": "stderr",
          "text": [
            "100%|██████████| 1364/1364 [07:30<00:00,  3.02it/s]\n"
          ]
        },
        {
          "output_type": "stream",
          "name": "stdout",
          "text": [
            "Epoch: 4, train_avg_loss: 0.0007415688481773758, train_avg_acc: 0.8612472275235983\n"
          ]
        },
        {
          "output_type": "stream",
          "name": "stderr",
          "text": [
            "100%|██████████| 1364/1364 [07:40<00:00,  2.96it/s]\n"
          ]
        },
        {
          "output_type": "stream",
          "name": "stdout",
          "text": [
            "Epoch: 5, train_avg_loss: 0.000729584662754117, train_avg_acc: 0.8636500404050824\n"
          ]
        },
        {
          "output_type": "stream",
          "name": "stderr",
          "text": [
            "100%|██████████| 1364/1364 [07:40<00:00,  2.96it/s]\n"
          ]
        },
        {
          "output_type": "stream",
          "name": "stdout",
          "text": [
            "Epoch: 6, train_avg_loss: 0.0007173842284169229, train_avg_acc: 0.8647389717049798\n"
          ]
        },
        {
          "output_type": "stream",
          "name": "stderr",
          "text": [
            "100%|██████████| 1364/1364 [07:30<00:00,  3.03it/s]\n"
          ]
        },
        {
          "output_type": "stream",
          "name": "stdout",
          "text": [
            "Epoch: 7, train_avg_loss: 0.0007076956122538195, train_avg_acc: 0.8660886733951159\n"
          ]
        },
        {
          "output_type": "stream",
          "name": "stderr",
          "text": [
            "100%|██████████| 1364/1364 [07:29<00:00,  3.03it/s]\n"
          ]
        },
        {
          "output_type": "stream",
          "name": "stdout",
          "text": [
            "Epoch: 8, train_avg_loss: 0.0006968519684064005, train_avg_acc: 0.8679670798874389\n"
          ]
        },
        {
          "output_type": "stream",
          "name": "stderr",
          "text": [
            "100%|██████████| 1364/1364 [07:39<00:00,  2.97it/s]"
          ]
        },
        {
          "output_type": "stream",
          "name": "stdout",
          "text": [
            "Epoch: 9, train_avg_loss: 0.00069024108015203, train_avg_acc: 0.8692093212519271\n"
          ]
        },
        {
          "output_type": "stream",
          "name": "stderr",
          "text": [
            "\n"
          ]
        }
      ],
      "source": [
        "net.train()\n",
        "loss_hist, acc_hist = [], []\n",
        "\n",
        "net.train()\n",
        "for epoch in range(10):\n",
        "    running_loss = 0.0\n",
        "    correct = 0\n",
        "    for data in tqdm(trainLoader):\n",
        "        inputs, labels = data[0].to(device), data[1].to(device)\n",
        "\n",
        "        optimizer.zero_grad()\n",
        "        outputs = net(inputs)\n",
        "        loss = criterion(outputs, labels)\n",
        "        loss.backward()\n",
        "        optimizer.step()\n",
        "\n",
        "        # compute training statistics\n",
        "        _, predicted = torch.max(outputs, 1)\n",
        "        correct += (predicted == labels).sum().item()\n",
        "        running_loss += loss.item()\n",
        "\n",
        "    avg_loss = running_loss / len(trainSet)\n",
        "    avg_acc = correct / len(trainSet)\n",
        "    loss_hist.append(avg_loss)\n",
        "    acc_hist.append(avg_acc)\n",
        "    print(\"Epoch: {}, train_avg_loss: {}, train_avg_acc: {}\".format(epoch, avg_loss, avg_acc))\n",
        "    "
      ]
    },
    {
      "cell_type": "code",
      "source": [
        "PATH = './drive/MyDrive/Colab Notebooks/hw3_new.pth'"
      ],
      "metadata": {
        "id": "10EzXLQROYjL"
      },
      "execution_count": null,
      "outputs": []
    },
    {
      "cell_type": "code",
      "source": [
        "# 存模型參數\n",
        "net.to(device)\n",
        "#torch.save(net.state_dict(), PATH)"
      ],
      "metadata": {
        "id": "ItTAWwiWnKv4"
      },
      "execution_count": null,
      "outputs": []
    },
    {
      "cell_type": "code",
      "execution_count": null,
      "metadata": {
        "id": "0kZLnDJGQTes",
        "colab": {
          "base_uri": "https://localhost:8080/"
        },
        "outputId": "c0323e2a-85b0-46c0-faf7-652adb876035"
      },
      "outputs": [
        {
          "output_type": "execute_result",
          "data": {
            "text/plain": [
              "<All keys matched successfully>"
            ]
          },
          "metadata": {},
          "execution_count": 19
        }
      ],
      "source": [
        "#讀模型參數（讀回來）\n",
        "# net = Net().to(device)\n",
        "net.load_state_dict(torch.load(PATH))"
      ]
    },
    {
      "cell_type": "code",
      "execution_count": null,
      "metadata": {
        "colab": {
          "base_uri": "https://localhost:8080/"
        },
        "id": "-AcG3txtvd4W",
        "outputId": "c607068e-8e93-423d-9739-82c25dab3613"
      },
      "outputs": [
        {
          "output_type": "stream",
          "name": "stdout",
          "text": [
            "Accuracy of the network on the 10000 test images: 87 %\n",
            "Accuracy of 0: 0.758913\n",
            "Accuracy of 1: 0.899526\n",
            "Accuracy of 2: 0.984665\n",
            "Accuracy of 3: 0.994974\n",
            "Accuracy of 4: 0.982915\n",
            "Accuracy of 5: 0.930443\n",
            "Accuracy of 6: 0.985101\n",
            "Accuracy of 7: 0.996905\n",
            "Accuracy of 8: 0.984910\n",
            "Accuracy of 9: 0.983292\n",
            "Accuracy of 10: 0.983992\n",
            "Accuracy of 11: 0.981481\n",
            "Accuracy of 12: 0.962622\n",
            "Accuracy of 13: 0.938383\n",
            "Accuracy of 14: 0.984724\n",
            "Accuracy of 15: 0.977083\n",
            "Accuracy of 16: 0.890380\n",
            "Accuracy of 17: 0.975048\n",
            "Accuracy of 18: 0.561523\n",
            "Accuracy of 19: 0.878594\n",
            "Accuracy of 20: 0.620419\n",
            "Accuracy of 21: 0.961728\n",
            "Accuracy of 22: 0.971717\n",
            "Accuracy of 23: 0.996299\n",
            "Accuracy of 24: 0.642204\n",
            "Accuracy of 25: 0.840372\n",
            "Accuracy of 26: 0.944310\n",
            "Accuracy of 27: 0.986403\n",
            "Accuracy of 28: 0.973774\n",
            "Accuracy of 29: 0.950508\n",
            "Accuracy of 30: 0.972527\n",
            "Accuracy of 31: 0.824121\n",
            "Accuracy of 32: 0.741935\n",
            "Accuracy of 33: 0.798611\n",
            "Accuracy of 34: 0.824561\n",
            "Accuracy of 35: 0.562500\n",
            "Accuracy of 36: 0.931265\n",
            "Accuracy of 37: 0.895662\n",
            "Accuracy of 38: 0.004630\n",
            "Accuracy of 39: 0.986928\n",
            "Accuracy of 40: 0.988270\n",
            "Accuracy of 41: 0.072500\n",
            "Accuracy of 42: 0.634975\n",
            "Accuracy of 43: 0.959432\n",
            "Accuracy of 44: 0.414520\n",
            "Accuracy of 45: 0.769716\n",
            "Accuracy of 46: 0.778970\n",
            "Accuracy of 47: 0.202367\n",
            "Accuracy of 48: 0.084052\n",
            "Accuracy of 49: 0.944152\n",
            "Accuracy of 50: 0.008584\n",
            "Accuracy of 51: 0.614130\n",
            "Accuracy of 52: 0.427723\n",
            "Accuracy of 53: 0.971121\n",
            "Accuracy of 54: 0.045767\n",
            "Accuracy of 55: 0.947723\n",
            "Accuracy of 56: 0.056017\n",
            "Accuracy of 57: 0.273504\n",
            "Accuracy of 58: 0.828694\n",
            "Accuracy of 59: 0.682979\n",
            "Accuracy of 60: 0.464567\n",
            "Accuracy of 61: 0.625277\n"
          ]
        }
      ],
      "source": [
        "# Test\n",
        "correct = 0\n",
        "total = 0\n",
        "class_correct = [0 for i in range(62)]\n",
        "class_total = [0 for i in range(62)]\n",
        "\n",
        "net.eval()\n",
        "for i, data in enumerate(testLoader, 1):\n",
        "    with torch.no_grad():\n",
        "        inputs, labels = data[0].to(device), data[1].to(device)\n",
        "        outputs = net(inputs)\n",
        "        _, predicted = torch.max(outputs, 1)\n",
        "        total += labels.size(0)\n",
        "        correct += (predicted == labels).sum().item()\n",
        "        c = (predicted == labels).squeeze()\n",
        "        for i in range(len(labels)):\n",
        "            label = labels[i]\n",
        "            class_correct[label] += c[i].item()\n",
        "            class_total[label] += 1\n",
        "            # print(class_correct)\n",
        "            # print(class_total)\n",
        "\n",
        "print('Accuracy of the network on the 10000 test images: %d %%' % (100*correct / total))\n",
        "acc=[]\n",
        "for i in range(62):\n",
        "    acc.append(class_correct[i]/class_total[i])\n",
        "    print('Accuracy of %d: %3f' % (i, (class_correct[i]/class_total[i])))"
      ]
    },
    {
      "cell_type": "code",
      "source": [
        "acc_hist"
      ],
      "metadata": {
        "colab": {
          "base_uri": "https://localhost:8080/"
        },
        "id": "WfsuXQwvNWCZ",
        "outputId": "49ba028d-dbed-4b9b-f480-8c27d61605a0"
      },
      "execution_count": null,
      "outputs": [
        {
          "output_type": "execute_result",
          "data": {
            "text/plain": [
              "[0.8170093934652659,\n",
              " 0.8494294573110275,\n",
              " 0.8550216926577374,\n",
              " 0.8587885352727773,\n",
              " 0.8612472275235983,\n",
              " 0.8636500404050824,\n",
              " 0.8647389717049798,\n",
              " 0.8660886733951159,\n",
              " 0.8679670798874389,\n",
              " 0.8692093212519271]"
            ]
          },
          "metadata": {},
          "execution_count": 16
        }
      ]
    },
    {
      "cell_type": "code",
      "source": [
        "loss_hist=[0.0010581896471504996, \n",
        "           0.0008210400287078262,\n",
        "           0.0007815952063570827,\n",
        "           0.0007578977157812135,\n",
        "           0.0007415688481773758,\n",
        "           0.000729584662754117,\n",
        "           0.0007173842284169229,\n",
        "           0.0007076956122538195,\n",
        "           0.0006968519684064005,\n",
        "           0.00069024108015203]"
      ],
      "metadata": {
        "id": "Cip7lSFFPrSL"
      },
      "execution_count": null,
      "outputs": []
    },
    {
      "cell_type": "code",
      "source": [
        "import matplotlib.pyplot as plt\n",
        "x=np.array([1,2,3,4,5,6,7,8,9,10])\n",
        "plt.xlabel('Epoches')\n",
        "plt.ylabel('Training Loss')\n",
        "plt.title('Training Procedure')\n",
        "\n",
        "plt.plot(x,loss_hist)\n",
        "plt.show()"
      ],
      "metadata": {
        "colab": {
          "base_uri": "https://localhost:8080/",
          "height": 295
        },
        "id": "5aAy66Dm9W2v",
        "outputId": "fe48f210-4a0d-49f5-a6cb-adc16521bcb8"
      },
      "execution_count": null,
      "outputs": [
        {
          "output_type": "display_data",
          "data": {
            "text/plain": [
              "<Figure size 432x288 with 1 Axes>"
            ],
            "image/png": "[encoded data removed]"
          },
          "metadata": {
            "needs_background": "light"
          }
        }
      ]
    },
    {
      "cell_type": "code",
      "source": [
        ""
      ],
      "metadata": {
        "id": "FSIac_cmawln"
      },
      "execution_count": null,
      "outputs": []
    },
    {
      "cell_type": "code",
      "source": [
        "# del net\n",
        "# torch.cuda.empty_cache()"
      ],
      "metadata": {
        "id": "WUKJptebcRDJ"
      },
      "execution_count": null,
      "outputs": []
    }
  ],
  "metadata": {
    "accelerator": "GPU",
    "colab": {
      "collapsed_sections": [],
      "name": "DL_hw3_Evonne.ipynb",
      "provenance": []
    },
    "kernelspec": {
      "display_name": "Python 3 (ipykernel)",
      "language": "python",
      "name": "python3"
    },
    "language_info": {
      "codemirror_mode": {
        "name": "ipython",
        "version": 3
      },
      "file_extension": ".py",
      "mimetype": "text/x-python",
      "name": "python",
      "nbconvert_exporter": "python",
      "pygments_lexer": "ipython3",
      "version": "3.8.8"
    }
  },
  "nbformat": 4,
  "nbformat_minor": 0
}